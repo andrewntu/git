{
 "cells": [
  {
   "cell_type": "code",
   "execution_count": 1,
   "metadata": {},
   "outputs": [],
   "source": [
    "import random"
   ]
  },
  {
   "cell_type": "code",
   "execution_count": 58,
   "metadata": {},
   "outputs": [],
   "source": [
    "food = {'1':'麥子磨麵','2':'唐老鴨','3':'小飯館兒','4':'老先覺','5':'好想吃冰','6':'芳姐炸雞'\n",
    "       ,'7':'清化河粉','8':'阿英','9':'川西堂','10':'活大自助餐','11':'鍋印','12':'麵之彩',\n",
    "        '13':'女九自助餐','14':'四面八方','15':'稻咖哩','16':'靚咖哩','17':'滇味小廚'\n",
    "        ,'18':'泰街頭','19':'118檸檬魚','20':'韓庭州','21':'雲香亭','22':'四海游龍'\n",
    "        ,'23':'麥當勞','24':'柒貳'}"
   ]
  },
  {
   "cell_type": "code",
   "execution_count": 166,
   "metadata": {},
   "outputs": [
    {
     "name": "stdout",
     "output_type": "stream",
     "text": [
      "1255\n",
      "稻咖哩\n"
     ]
    }
   ],
   "source": [
    "def weight_choice(weight):\n",
    "    t = random.randint(0, sum(weight))\n",
    "    print(t)\n",
    "    for i, val in enumerate(weight):\n",
    "#         print(i, val)\n",
    "        t -= val\n",
    "        if t < 0:\n",
    "            return i\n",
    "choice = weight_choice([100, 1, 100, 1, 100, 100, 100, 100, 100, 100, 1, 100, 100, 100, 100, 100, 100, 100, 100, 100, 100, 100, 1, 100])\n",
    "print(food[str(choice)])"
   ]
  },
  {
   "cell_type": "code",
   "execution_count": null,
   "metadata": {},
   "outputs": [],
   "source": []
  }
 ],
 "metadata": {
  "kernelspec": {
   "display_name": "Python 3",
   "language": "python",
   "name": "python3"
  },
  "language_info": {
   "codemirror_mode": {
    "name": "ipython",
    "version": 3
   },
   "file_extension": ".py",
   "mimetype": "text/x-python",
   "name": "python",
   "nbconvert_exporter": "python",
   "pygments_lexer": "ipython3",
   "version": "3.7.1"
  }
 },
 "nbformat": 4,
 "nbformat_minor": 2
}
