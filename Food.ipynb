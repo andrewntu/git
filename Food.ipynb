{
 "cells": [
  {
   "cell_type": "code",
   "execution_count": 1,
   "metadata": {},
   "outputs": [],
   "source": [
    "import random"
   ]
  },
  {
   "cell_type": "code",
   "execution_count": 18,
   "metadata": {},
   "outputs": [],
   "source": [
    "food = {'1':'麥子磨麵','2':'唐老鴨','3':'小飯館兒','4':'老先覺','5':'好想吃冰','6':'芳姐炸雞'\n",
    "       ,'7':'清化河粉','8':'阿英','9':'川西堂','10':'活大自助餐','11':'鍋印','12':'麵之彩',\n",
    "        '13':'小福','14':'女九自助餐','15':'四面八方','16':'稻咖哩','17':'靚咖哩','18':'滇味小廚'\n",
    "        ,'19':'泰街頭','20':'118檸檬魚','21':'韓庭州','21':'雲香亭','22':'四海游龍'\n",
    "        ,'23':'麥當勞','24':'柒貳','25':''}"
   ]
  },
  {
   "cell_type": "code",
   "execution_count": 38,
   "metadata": {},
   "outputs": [
    {
     "data": {
      "text/plain": [
       "('2', '唐老鴨')"
      ]
     },
     "execution_count": 38,
     "metadata": {},
     "output_type": "execute_result"
    }
   ],
   "source": [
    "random.choice(list(food.items()))"
   ]
  },
  {
   "cell_type": "code",
   "execution_count": null,
   "metadata": {},
   "outputs": [],
   "source": []
  },
  {
   "cell_type": "code",
   "execution_count": null,
   "metadata": {},
   "outputs": [],
   "source": []
  }
 ],
 "metadata": {
  "kernelspec": {
   "display_name": "Python 3",
   "language": "python",
   "name": "python3"
  },
  "language_info": {
   "codemirror_mode": {
    "name": "ipython",
    "version": 3
   },
   "file_extension": ".py",
   "mimetype": "text/x-python",
   "name": "python",
   "nbconvert_exporter": "python",
   "pygments_lexer": "ipython3",
   "version": "3.7.1"
  }
 },
 "nbformat": 4,
 "nbformat_minor": 2
}
